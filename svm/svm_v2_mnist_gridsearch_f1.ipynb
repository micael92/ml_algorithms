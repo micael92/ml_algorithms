{
 "cells": [
  {
   "cell_type": "code",
   "execution_count": 1,
   "metadata": {},
   "outputs": [
    {
     "name": "stdout",
     "output_type": "stream",
     "text": [
      "WARNING:tensorflow:From c:\\Users\\micha\\AppData\\Local\\Programs\\Python\\Python311\\Lib\\site-packages\\keras\\src\\losses.py:2976: The name tf.losses.sparse_softmax_cross_entropy is deprecated. Please use tf.compat.v1.losses.sparse_softmax_cross_entropy instead.\n",
      "\n"
     ]
    }
   ],
   "source": [
    "from tensorflow.keras.datasets import mnist\n",
    "from sklearn.preprocessing import StandardScaler\n",
    "from sklearn.metrics import classification_report, confusion_matrix\n",
    "from sklearn.model_selection import GridSearchCV\n",
    "from sklearn import svm\n",
    "import matplotlib.pyplot as plt\n",
    "import seaborn as sns\n",
    "import joblib  \n"
   ]
  },
  {
   "cell_type": "code",
   "execution_count": 2,
   "metadata": {},
   "outputs": [],
   "source": [
    "# MNIST Datensatz aus keras laden\n",
    "(x_train, y_train), (x_test, y_test) = mnist.load_data()"
   ]
  },
  {
   "cell_type": "code",
   "execution_count": 3,
   "metadata": {},
   "outputs": [
    {
     "name": "stdout",
     "output_type": "stream",
     "text": [
      "Ursprungs Shape des Trainingsdatensatzes: (60000, 28, 28)\n",
      "Ursprungs Shape des Testdatensatzes: (10000, 28, 28)\n"
     ]
    }
   ],
   "source": [
    "# Das Shape des Datensatzes ausgeben\n",
    "print(\"Ursprungs Shape des Trainingsdatensatzes:\", x_train.shape)\n",
    "print(\"Ursprungs Shape des Testdatensatzes:\", x_test.shape)"
   ]
  },
  {
   "cell_type": "code",
   "execution_count": 4,
   "metadata": {},
   "outputs": [],
   "source": [
    "# Den Datensatz für ein SVM vorbereiten\n",
    "\n",
    "# Flatten der Bildmatrizen für die SVM (von 28x28 zu 784)\n",
    "x_train_svm = x_train.reshape((x_train.shape[0], -1))\n",
    "x_test_svm = x_test.reshape((x_test.shape[0], -1))\n",
    "# Standardisierung der Feature-Werte\n",
    "scaler = StandardScaler()\n",
    "x_train_svm = scaler.fit_transform(x_train_svm)\n",
    "x_test_svm = scaler.transform(x_test_svm)"
   ]
  },
  {
   "cell_type": "code",
   "execution_count": 5,
   "metadata": {},
   "outputs": [
    {
     "name": "stdout",
     "output_type": "stream",
     "text": [
      "SVM Shape des Trainingsdatensatzes: (60000, 784)\n",
      "SVM Shape des Testdatensatzes: (10000, 784)\n"
     ]
    }
   ],
   "source": [
    "# Das Shape des Datensatzes ausgeben\n",
    "print(\"SVM Shape des Trainingsdatensatzes:\", x_train_svm.shape)\n",
    "print(\"SVM Shape des Testdatensatzes:\", x_test_svm.shape)"
   ]
  },
  {
   "cell_type": "code",
   "execution_count": 6,
   "metadata": {},
   "outputs": [
    {
     "name": "stdout",
     "output_type": "stream",
     "text": [
      "Fitting 3 folds for each of 9 candidates, totalling 27 fits\n",
      "Beste Parameter-Kombination: {'C': 10, 'gamma': 'scale', 'kernel': 'rbf'}\n"
     ]
    }
   ],
   "source": [
    "# Parameteroptimierung mit GridSearchCV\n",
    "\n",
    "# Parametergitter definieren\n",
    "param_grid = {\n",
    "    'C': [0.1, 1, 10],\n",
    "    'gamma': [0.01, 'scale', 0.0001],\n",
    "    'kernel': ['rbf']\n",
    "}\n",
    "\n",
    "# GridSearchCV initialisieren\n",
    "grid_search = GridSearchCV(svm.SVC(), param_grid, verbose=2, cv=3, n_jobs=6, scoring='f1_weighted')\n",
    "\n",
    "# Auf den Trainingsdaten fitten\n",
    "grid_search.fit(x_train_svm, y_train)\n",
    "\n",
    "# Beste Parameter-Kombination ausgeben\n",
    "print(\"Beste Parameter-Kombination:\", grid_search.best_params_)\n",
    "\n"
   ]
  },
  {
   "cell_type": "code",
   "execution_count": 7,
   "metadata": {},
   "outputs": [
    {
     "name": "stdout",
     "output_type": "stream",
     "text": [
      "   mean_fit_time  std_fit_time  mean_score_time  std_score_time param_C  \\\n",
      "0    5255.046189     14.508383      1812.844063        2.089039     0.1   \n",
      "1    1880.618012      3.653981      1253.910846        7.249694     0.1   \n",
      "2    2806.960721      6.635479      1645.594951       16.905628     0.1   \n",
      "3    4758.235481     62.515159      1745.232111        5.100744       1   \n",
      "4     883.975430      1.390957       777.033884        3.321231       1   \n",
      "5    1091.747019      3.332990      1095.322025       11.691308       1   \n",
      "6    4962.590820     14.823364       726.900626       11.566964      10   \n",
      "7     802.242517      7.715798       733.316953        2.958721      10   \n",
      "8     532.510066      2.452323       649.816525       23.065792      10   \n",
      "\n",
      "  param_gamma param_kernel                                         params  \\\n",
      "0        0.01          rbf     {'C': 0.1, 'gamma': 0.01, 'kernel': 'rbf'}   \n",
      "1       scale          rbf  {'C': 0.1, 'gamma': 'scale', 'kernel': 'rbf'}   \n",
      "2      0.0001          rbf   {'C': 0.1, 'gamma': 0.0001, 'kernel': 'rbf'}   \n",
      "3        0.01          rbf       {'C': 1, 'gamma': 0.01, 'kernel': 'rbf'}   \n",
      "4       scale          rbf    {'C': 1, 'gamma': 'scale', 'kernel': 'rbf'}   \n",
      "5      0.0001          rbf     {'C': 1, 'gamma': 0.0001, 'kernel': 'rbf'}   \n",
      "6        0.01          rbf      {'C': 10, 'gamma': 0.01, 'kernel': 'rbf'}   \n",
      "7       scale          rbf   {'C': 10, 'gamma': 'scale', 'kernel': 'rbf'}   \n",
      "8      0.0001          rbf    {'C': 10, 'gamma': 0.0001, 'kernel': 'rbf'}   \n",
      "\n",
      "   split0_test_score  split1_test_score  split2_test_score  mean_test_score  \\\n",
      "0           0.663059           0.664827           0.669903         0.665930   \n",
      "1           0.921251           0.923109           0.925586         0.923315   \n",
      "2           0.886959           0.886808           0.892636         0.888801   \n",
      "3           0.850856           0.855576           0.855015         0.853816   \n",
      "4           0.959590           0.960250           0.961003         0.960281   \n",
      "5           0.930018           0.928039           0.931016         0.929691   \n",
      "6           0.859909           0.865059           0.864985         0.863318   \n",
      "7           0.968523           0.967096           0.967720         0.967780   \n",
      "8           0.946031           0.944550           0.946663         0.945748   \n",
      "\n",
      "   std_test_score  rank_test_score  \n",
      "0        0.002901                9  \n",
      "1        0.001776                5  \n",
      "2        0.002712                6  \n",
      "3        0.002106                8  \n",
      "4        0.000577                2  \n",
      "5        0.001237                4  \n",
      "6        0.002410                7  \n",
      "7        0.000584                1  \n",
      "8        0.000886                3  \n"
     ]
    }
   ],
   "source": [
    "import pandas as pd\n",
    "\n",
    "# Save cv_results_df to a CSV file\n",
    "cv_results_df = pd.DataFrame(grid_search.cv_results_)\n",
    "cv_results_df.to_csv('svm_v2_mnist_gridsearch_f1.csv', index=False)\n",
    "print(cv_results_df)"
   ]
  }
 ],
 "metadata": {
  "kernelspec": {
   "display_name": "venv_ml",
   "language": "python",
   "name": "python3"
  },
  "language_info": {
   "codemirror_mode": {
    "name": "ipython",
    "version": 3
   },
   "file_extension": ".py",
   "mimetype": "text/x-python",
   "name": "python",
   "nbconvert_exporter": "python",
   "pygments_lexer": "ipython3",
   "version": "3.11.1"
  }
 },
 "nbformat": 4,
 "nbformat_minor": 2
}
