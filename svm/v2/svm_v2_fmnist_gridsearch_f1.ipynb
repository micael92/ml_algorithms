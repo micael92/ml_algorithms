{
 "cells": [
  {
   "cell_type": "code",
   "execution_count": 1,
   "metadata": {},
   "outputs": [
    {
     "name": "stdout",
     "output_type": "stream",
     "text": [
      "WARNING:tensorflow:From c:\\Users\\micha\\AppData\\Local\\Programs\\Python\\Python311\\Lib\\site-packages\\keras\\src\\losses.py:2976: The name tf.losses.sparse_softmax_cross_entropy is deprecated. Please use tf.compat.v1.losses.sparse_softmax_cross_entropy instead.\n",
      "\n"
     ]
    }
   ],
   "source": [
    "from tensorflow.keras.datasets import fashion_mnist\n",
    "from sklearn.preprocessing import StandardScaler\n",
    "from sklearn.metrics import classification_report, confusion_matrix\n",
    "from sklearn.model_selection import GridSearchCV\n",
    "from sklearn import svm\n",
    "import matplotlib.pyplot as plt\n",
    "import seaborn as sns\n",
    "import joblib  \n"
   ]
  },
  {
   "cell_type": "code",
   "execution_count": 2,
   "metadata": {},
   "outputs": [],
   "source": [
    "# MNIST Datensatz aus keras laden\n",
    "(x_train, y_train), (x_test, y_test) = fashion_mnist.load_data()"
   ]
  },
  {
   "cell_type": "code",
   "execution_count": 3,
   "metadata": {},
   "outputs": [
    {
     "name": "stdout",
     "output_type": "stream",
     "text": [
      "Ursprungs Shape des Trainingsdatensatzes: (60000, 28, 28)\n",
      "Ursprungs Shape des Testdatensatzes: (10000, 28, 28)\n"
     ]
    }
   ],
   "source": [
    "# Das Shape des Datensatzes ausgeben\n",
    "print(\"Ursprungs Shape des Trainingsdatensatzes:\", x_train.shape)\n",
    "print(\"Ursprungs Shape des Testdatensatzes:\", x_test.shape)"
   ]
  },
  {
   "cell_type": "code",
   "execution_count": 4,
   "metadata": {},
   "outputs": [],
   "source": [
    "# Den Datensatz für ein SVM vorbereiten\n",
    "\n",
    "# Flatten der Bildmatrizen für die SVM (von 28x28 zu 784)\n",
    "x_train_svm = x_train.reshape((x_train.shape[0], -1))\n",
    "x_test_svm = x_test.reshape((x_test.shape[0], -1))\n",
    "# Standardisierung der Feature-Werte\n",
    "scaler = StandardScaler()\n",
    "x_train_svm = scaler.fit_transform(x_train_svm)\n",
    "x_test_svm = scaler.transform(x_test_svm)"
   ]
  },
  {
   "cell_type": "code",
   "execution_count": 5,
   "metadata": {},
   "outputs": [
    {
     "name": "stdout",
     "output_type": "stream",
     "text": [
      "SVM Shape des Trainingsdatensatzes: (60000, 784)\n",
      "SVM Shape des Testdatensatzes: (10000, 784)\n"
     ]
    }
   ],
   "source": [
    "# Das Shape des Datensatzes ausgeben\n",
    "print(\"SVM Shape des Trainingsdatensatzes:\", x_train_svm.shape)\n",
    "print(\"SVM Shape des Testdatensatzes:\", x_test_svm.shape)"
   ]
  },
  {
   "cell_type": "code",
   "execution_count": 11,
   "metadata": {},
   "outputs": [
    {
     "name": "stdout",
     "output_type": "stream",
     "text": [
      "Fitting 3 folds for each of 9 candidates, totalling 27 fits\n",
      "Beste Parameter-Kombination: {'C': 10, 'gamma': 'scale', 'kernel': 'rbf'}\n"
     ]
    }
   ],
   "source": [
    "# Parameteroptimierung mit GridSearchCV\n",
    "\n",
    "# Parametergitter definieren\n",
    "param_grid = {\n",
    "    'C': [0.1, 1, 10],\n",
    "    'gamma': [0.01, 'scale', 0.0001],\n",
    "    'kernel': ['rbf']\n",
    "}\n",
    "\n",
    "# GridSearchCV initialisieren\n",
    "grid_search = GridSearchCV(svm.SVC(), param_grid, verbose=2, cv=3 , n_jobs=5, scoring='f1_weighted')\n",
    "\n",
    "# Auf den Trainingsdaten fitten\n",
    "grid_search.fit(x_train_svm, y_train)\n",
    "\n",
    "# Beste Parameter-Kombination ausgeben\n",
    "print(\"Beste Parameter-Kombination:\", grid_search.best_params_)\n",
    "\n"
   ]
  },
  {
   "cell_type": "code",
   "execution_count": 12,
   "metadata": {},
   "outputs": [
    {
     "name": "stdout",
     "output_type": "stream",
     "text": [
      "   mean_fit_time  std_fit_time  mean_score_time  std_score_time param_C  \\\n",
      "0    5026.465348      6.492208      1868.205823        5.201673     0.1   \n",
      "1    1337.842490     36.109089      1464.585855       89.880146     0.1   \n",
      "2    1865.262038    172.896899      1885.408046      247.109314     0.1   \n",
      "3    4196.918132     15.905177      1311.032965        1.905154       1   \n",
      "4     697.431908    141.455508       785.040694       87.056561       1   \n",
      "5     741.551321     61.083331      1046.950669       14.397416       1   \n",
      "6    4107.253202     25.197321      1319.875941      296.727290      10   \n",
      "7     735.258689     46.675170       910.584746      132.627745      10   \n",
      "8     557.622598      5.689376       611.806159       71.072654      10   \n",
      "\n",
      "  param_gamma param_kernel                                         params  \\\n",
      "0        0.01          rbf     {'C': 0.1, 'gamma': 0.01, 'kernel': 'rbf'}   \n",
      "1       scale          rbf  {'C': 0.1, 'gamma': 'scale', 'kernel': 'rbf'}   \n",
      "2      0.0001          rbf   {'C': 0.1, 'gamma': 0.0001, 'kernel': 'rbf'}   \n",
      "3        0.01          rbf       {'C': 1, 'gamma': 0.01, 'kernel': 'rbf'}   \n",
      "4       scale          rbf    {'C': 1, 'gamma': 'scale', 'kernel': 'rbf'}   \n",
      "5      0.0001          rbf     {'C': 1, 'gamma': 0.0001, 'kernel': 'rbf'}   \n",
      "6        0.01          rbf      {'C': 10, 'gamma': 0.01, 'kernel': 'rbf'}   \n",
      "7       scale          rbf   {'C': 10, 'gamma': 'scale', 'kernel': 'rbf'}   \n",
      "8      0.0001          rbf    {'C': 10, 'gamma': 0.0001, 'kernel': 'rbf'}   \n",
      "\n",
      "   split0_test_score  split1_test_score  split2_test_score  mean_test_score  \\\n",
      "0           0.659022           0.659811           0.660467         0.659767   \n",
      "1           0.841710           0.846213           0.841786         0.843236   \n",
      "2           0.784005           0.784526           0.782492         0.783674   \n",
      "3           0.804583           0.805311           0.805177         0.805024   \n",
      "4           0.885969           0.890810           0.887091         0.887957   \n",
      "5           0.844423           0.847154           0.846004         0.845860   \n",
      "6           0.812773           0.815672           0.815109         0.814518   \n",
      "7           0.894609           0.901202           0.898340         0.898050   \n",
      "8           0.870696           0.876730           0.875603         0.874343   \n",
      "\n",
      "   std_test_score  rank_test_score  \n",
      "0        0.000591                9  \n",
      "1        0.002105                5  \n",
      "2        0.000863                8  \n",
      "3        0.000316                7  \n",
      "4        0.002069                2  \n",
      "5        0.001119                4  \n",
      "6        0.001255                6  \n",
      "7        0.002699                1  \n",
      "8        0.002619                3  \n"
     ]
    }
   ],
   "source": [
    "import pandas as pd\n",
    "\n",
    "# Save cv_results_df to a CSV file\n",
    "cv_results_df = pd.DataFrame(grid_search.cv_results_)\n",
    "cv_results_df.to_csv('svm_v2_fmnist_gridsearch_f1.ipynb.csv', index=False)\n",
    "print(cv_results_df)"
   ]
  }
 ],
 "metadata": {
  "kernelspec": {
   "display_name": "venv_ml",
   "language": "python",
   "name": "python3"
  },
  "language_info": {
   "codemirror_mode": {
    "name": "ipython",
    "version": 3
   },
   "file_extension": ".py",
   "mimetype": "text/x-python",
   "name": "python",
   "nbconvert_exporter": "python",
   "pygments_lexer": "ipython3",
   "version": "3.11.1"
  }
 },
 "nbformat": 4,
 "nbformat_minor": 2
}
