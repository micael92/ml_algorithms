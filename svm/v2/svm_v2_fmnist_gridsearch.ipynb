{
 "cells": [
  {
   "cell_type": "code",
   "execution_count": 1,
   "metadata": {},
   "outputs": [
    {
     "name": "stdout",
     "output_type": "stream",
     "text": [
      "WARNING:tensorflow:From c:\\Users\\micha\\AppData\\Local\\Programs\\Python\\Python311\\Lib\\site-packages\\keras\\src\\losses.py:2976: The name tf.losses.sparse_softmax_cross_entropy is deprecated. Please use tf.compat.v1.losses.sparse_softmax_cross_entropy instead.\n",
      "\n"
     ]
    }
   ],
   "source": [
    "from tensorflow.keras.datasets import fashion_mnist\n",
    "from sklearn.preprocessing import StandardScaler\n",
    "from sklearn.metrics import classification_report, confusion_matrix\n",
    "from sklearn.model_selection import GridSearchCV\n",
    "from sklearn import svm\n",
    "import matplotlib.pyplot as plt\n",
    "import seaborn as sns\n",
    "import joblib  \n"
   ]
  },
  {
   "cell_type": "code",
   "execution_count": 3,
   "metadata": {},
   "outputs": [],
   "source": [
    "# MNIST Datensatz aus keras laden\n",
    "(x_train, y_train), (x_test, y_test) = fashion_mnist.load_data()"
   ]
  },
  {
   "cell_type": "code",
   "execution_count": 4,
   "metadata": {},
   "outputs": [
    {
     "name": "stdout",
     "output_type": "stream",
     "text": [
      "Ursprungs Shape des Trainingsdatensatzes: (60000, 28, 28)\n",
      "Ursprungs Shape des Testdatensatzes: (10000, 28, 28)\n"
     ]
    }
   ],
   "source": [
    "# Das Shape des Datensatzes ausgeben\n",
    "print(\"Ursprungs Shape des Trainingsdatensatzes:\", x_train.shape)\n",
    "print(\"Ursprungs Shape des Testdatensatzes:\", x_test.shape)"
   ]
  },
  {
   "cell_type": "code",
   "execution_count": 5,
   "metadata": {},
   "outputs": [],
   "source": [
    "# Den Datensatz für ein SVM vorbereiten\n",
    "\n",
    "# Flatten der Bildmatrizen für die SVM (von 28x28 zu 784)\n",
    "x_train_svm = x_train.reshape((x_train.shape[0], -1))\n",
    "x_test_svm = x_test.reshape((x_test.shape[0], -1))\n",
    "# Standardisierung der Feature-Werte\n",
    "scaler = StandardScaler()\n",
    "x_train_svm = scaler.fit_transform(x_train_svm)\n",
    "x_test_svm = scaler.transform(x_test_svm)"
   ]
  },
  {
   "cell_type": "code",
   "execution_count": 6,
   "metadata": {},
   "outputs": [
    {
     "name": "stdout",
     "output_type": "stream",
     "text": [
      "SVM Shape des Trainingsdatensatzes: (60000, 784)\n",
      "SVM Shape des Testdatensatzes: (10000, 784)\n"
     ]
    }
   ],
   "source": [
    "# Das Shape des Datensatzes ausgeben\n",
    "print(\"SVM Shape des Trainingsdatensatzes:\", x_train_svm.shape)\n",
    "print(\"SVM Shape des Testdatensatzes:\", x_test_svm.shape)"
   ]
  },
  {
   "cell_type": "code",
   "execution_count": 7,
   "metadata": {},
   "outputs": [
    {
     "name": "stdout",
     "output_type": "stream",
     "text": [
      "Fitting 3 folds for each of 9 candidates, totalling 27 fits\n",
      "Beste Parameter-Kombination: {'C': 10, 'gamma': 'scale', 'kernel': 'rbf'}\n"
     ]
    }
   ],
   "source": [
    "# Parameteroptimierung mit GridSearchCV\n",
    "\n",
    "# Parametergitter definieren\n",
    "param_grid = {\n",
    "    'C': [0.1, 1, 10],\n",
    "    'gamma': [0.01, 'scale', 0.0001],\n",
    "    'kernel': ['rbf']\n",
    "}\n",
    "\n",
    "# GridSearchCV initialisieren\n",
    "grid_search = GridSearchCV(svm.SVC(), param_grid, verbose=2, cv=3, n_jobs=6, scoring='accuracy')\n",
    "\n",
    "# Auf den Trainingsdaten fitten\n",
    "grid_search.fit(x_train_svm, y_train)\n",
    "\n",
    "# Beste Parameter-Kombination ausgeben\n",
    "print(\"Beste Parameter-Kombination:\", grid_search.best_params_)\n",
    "\n"
   ]
  },
  {
   "cell_type": "code",
   "execution_count": 10,
   "metadata": {},
   "outputs": [
    {
     "name": "stdout",
     "output_type": "stream",
     "text": [
      "   mean_fit_time  std_fit_time  mean_score_time  std_score_time param_C  \\\n",
      "0    4472.785324      5.999194      1638.966583        4.068859     0.1   \n",
      "1    1250.977011      1.411624      1254.975400        2.121311     0.1   \n",
      "2    1898.269149      3.110241      1330.855350        2.776589     0.1   \n",
      "3    3730.482477     17.826703      1582.329841        4.659099       1   \n",
      "4     789.476683      1.398656       956.037579        3.935774       1   \n",
      "5     939.437677      3.857407      1061.316651        1.405752       1   \n",
      "6    4128.293020     16.841308       814.261444       18.284112      10   \n",
      "7     743.236215      3.843901       935.673332        4.929686      10   \n",
      "8     608.647060      3.951744       844.255648       12.480740      10   \n",
      "\n",
      "  param_gamma param_kernel                                         params  \\\n",
      "0        0.01          rbf     {'C': 0.1, 'gamma': 0.01, 'kernel': 'rbf'}   \n",
      "1       scale          rbf  {'C': 0.1, 'gamma': 'scale', 'kernel': 'rbf'}   \n",
      "2      0.0001          rbf   {'C': 0.1, 'gamma': 0.0001, 'kernel': 'rbf'}   \n",
      "3        0.01          rbf       {'C': 1, 'gamma': 0.01, 'kernel': 'rbf'}   \n",
      "4       scale          rbf    {'C': 1, 'gamma': 'scale', 'kernel': 'rbf'}   \n",
      "5      0.0001          rbf     {'C': 1, 'gamma': 0.0001, 'kernel': 'rbf'}   \n",
      "6        0.01          rbf      {'C': 10, 'gamma': 0.01, 'kernel': 'rbf'}   \n",
      "7       scale          rbf   {'C': 10, 'gamma': 'scale', 'kernel': 'rbf'}   \n",
      "8      0.0001          rbf    {'C': 10, 'gamma': 0.0001, 'kernel': 'rbf'}   \n",
      "\n",
      "   split0_test_score  split1_test_score  split2_test_score  mean_test_score  \\\n",
      "0            0.62560            0.62720            0.62865         0.627150   \n",
      "1            0.84410            0.84845            0.84415         0.845567   \n",
      "2            0.78675            0.78815            0.78655         0.787150   \n",
      "3            0.79305            0.79395            0.79415         0.793717   \n",
      "4            0.88685            0.89160            0.88785         0.888767   \n",
      "5            0.84640            0.84905            0.84820         0.847883   \n",
      "6            0.80225            0.80550            0.80520         0.804317   \n",
      "7            0.89515            0.90170            0.89885         0.898567   \n",
      "8            0.87155            0.87745            0.87640         0.875133   \n",
      "\n",
      "   std_test_score  rank_test_score  \n",
      "0        0.001246                9  \n",
      "1        0.002039                5  \n",
      "2        0.000712                8  \n",
      "3        0.000478                7  \n",
      "4        0.002045                2  \n",
      "5        0.001105                4  \n",
      "6        0.001466                6  \n",
      "7        0.002682                1  \n",
      "8        0.002570                3  \n"
     ]
    }
   ],
   "source": [
    "import pandas as pd\n",
    "\n",
    "# Save cv_results_df to a CSV file\n",
    "cv_results_df = pd.DataFrame(grid_search.cv_results_)\n",
    "cv_results_df.to_csv('svm_v2_opt_gridcv_results_c0.1_1_10_100.csv', index=False)\n",
    "print(cv_results_df)"
   ]
  }
 ],
 "metadata": {
  "kernelspec": {
   "display_name": "venv_ml",
   "language": "python",
   "name": "python3"
  },
  "language_info": {
   "codemirror_mode": {
    "name": "ipython",
    "version": 3
   },
   "file_extension": ".py",
   "mimetype": "text/x-python",
   "name": "python",
   "nbconvert_exporter": "python",
   "pygments_lexer": "ipython3",
   "version": "3.11.1"
  }
 },
 "nbformat": 4,
 "nbformat_minor": 2
}
