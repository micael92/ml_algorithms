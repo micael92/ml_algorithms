{
 "cells": [
  {
   "cell_type": "code",
   "execution_count": 1,
   "metadata": {},
   "outputs": [],
   "source": [
    "from sklearn.datasets import fetch_openml\n",
    "import numpy as np\n"
   ]
  },
  {
   "cell_type": "code",
   "execution_count": 5,
   "metadata": {},
   "outputs": [],
   "source": [
    "# Laden des MNIST-Datensatzes\n",
    "mnist = fetch_openml('mnist_784', version=1)"
   ]
  },
  {
   "cell_type": "code",
   "execution_count": 8,
   "metadata": {},
   "outputs": [
    {
     "name": "stderr",
     "output_type": "stream",
     "text": [
      "c:\\Users\\micha\\CODE\\ml_algorithms\\venv_ml\\Lib\\site-packages\\numpy\\core\\fromnumeric.py:3785: FutureWarning: The behavior of DataFrame.var with axis=None is deprecated, in a future version this will reduce over both axes and return a scalar. To retain the old behavior, pass axis=0 (or do not pass axis)\n",
      "  return var(axis=axis, dtype=dtype, out=out, ddof=ddof, **kwargs)\n"
     ]
    },
    {
     "name": "stdout",
     "output_type": "stream",
     "text": [
      "4374.967407837383\n"
     ]
    }
   ],
   "source": [
    "# Extrahieren der Bilder (Features)\n",
    "X_mnist = mnist.data\n",
    "\n",
    "# Berechnung der Varianz jedes Merkmals (Pixels) über alle Bilder\n",
    "variance_per_feature_mnist = np.var(X_mnist)\n",
    "\n",
    "# Berechnung der durchschnittlichen Varianz über alle Merkmale\n",
    "average_variance_mnist = np.mean(variance_per_feature_mnist)\n",
    "\n",
    "# Ausgabe der durchschnittlichen Varianz\n",
    "print(average_variance_mnist)"
   ]
  },
  {
   "cell_type": "code",
   "execution_count": 9,
   "metadata": {},
   "outputs": [
    {
     "name": "stdout",
     "output_type": "stream",
     "text": [
      "2.9154736142643355e-07\n"
     ]
    }
   ],
   "source": [
    "# Berechnung von gamma für 'scale', angenommen n_features = 784 für MNIST\n",
    "n_features_mnist = 784\n",
    "gamma_scale_mnist = 1 / (n_features_mnist * average_variance_mnist)\n",
    "\n",
    "# Ausgabe des gamma-Wertes\n",
    "print(gamma_scale_mnist)"
   ]
  }
 ],
 "metadata": {
  "kernelspec": {
   "display_name": "venv_ml",
   "language": "python",
   "name": "python3"
  },
  "language_info": {
   "codemirror_mode": {
    "name": "ipython",
    "version": 3
   },
   "file_extension": ".py",
   "mimetype": "text/x-python",
   "name": "python",
   "nbconvert_exporter": "python",
   "pygments_lexer": "ipython3",
   "version": "3.11.1"
  }
 },
 "nbformat": 4,
 "nbformat_minor": 2
}
