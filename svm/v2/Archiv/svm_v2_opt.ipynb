{
 "cells": [
  {
   "cell_type": "markdown",
   "metadata": {},
   "source": [
    "Hier:\n",
    "- GridSearchCV mit gamma=scale und c= 1,10,100 testen"
   ]
  },
  {
   "cell_type": "code",
   "execution_count": 1,
   "metadata": {},
   "outputs": [
    {
     "name": "stdout",
     "output_type": "stream",
     "text": [
      "WARNING:tensorflow:From c:\\Users\\micha\\CODE\\ml_algorithms\\venv_ml\\Lib\\site-packages\\keras\\src\\losses.py:2976: The name tf.losses.sparse_softmax_cross_entropy is deprecated. Please use tf.compat.v1.losses.sparse_softmax_cross_entropy instead.\n",
      "\n"
     ]
    }
   ],
   "source": [
    "from tensorflow.keras.datasets import mnist\n",
    "from sklearn.preprocessing import StandardScaler\n",
    "from sklearn.metrics import classification_report, confusion_matrix\n",
    "from sklearn.model_selection import GridSearchCV\n",
    "from sklearn import svm\n",
    "import matplotlib.pyplot as plt\n",
    "import seaborn as sns\n",
    "import joblib  \n"
   ]
  },
  {
   "cell_type": "code",
   "execution_count": 2,
   "metadata": {},
   "outputs": [],
   "source": [
    "# MNIST Datensatz aus keras laden\n",
    "(x_train, y_train), (x_test, y_test) = mnist.load_data()"
   ]
  },
  {
   "cell_type": "code",
   "execution_count": 3,
   "metadata": {},
   "outputs": [
    {
     "name": "stdout",
     "output_type": "stream",
     "text": [
      "Ursprungs Shape des Trainingsdatensatzes: (60000, 28, 28)\n",
      "Ursprungs Shape des Testdatensatzes: (10000, 28, 28)\n"
     ]
    }
   ],
   "source": [
    "# Das Shape des Datensatzes ausgeben\n",
    "print(\"Ursprungs Shape des Trainingsdatensatzes:\", x_train.shape)\n",
    "print(\"Ursprungs Shape des Testdatensatzes:\", x_test.shape)"
   ]
  },
  {
   "cell_type": "code",
   "execution_count": 4,
   "metadata": {},
   "outputs": [],
   "source": [
    "# Den Datensatz für ein SVM vorbereiten\n",
    "\n",
    "# Flatten der Bildmatrizen für die SVM (von 28x28 zu 784)\n",
    "x_train_svm = x_train.reshape((x_train.shape[0], -1))\n",
    "x_test_svm = x_test.reshape((x_test.shape[0], -1))\n",
    "# Standardisierung der Feature-Werte\n",
    "scaler = StandardScaler()\n",
    "x_train_svm = scaler.fit_transform(x_train_svm)\n",
    "x_test_svm = scaler.transform(x_test_svm)"
   ]
  },
  {
   "cell_type": "code",
   "execution_count": 5,
   "metadata": {},
   "outputs": [
    {
     "name": "stdout",
     "output_type": "stream",
     "text": [
      "SVM Shape des Trainingsdatensatzes: (60000, 784)\n",
      "SVM Shape des Testdatensatzes: (10000, 784)\n"
     ]
    }
   ],
   "source": [
    "# Das Shape des Datensatzes ausgeben\n",
    "print(\"SVM Shape des Trainingsdatensatzes:\", x_train_svm.shape)\n",
    "print(\"SVM Shape des Testdatensatzes:\", x_test_svm.shape)"
   ]
  },
  {
   "cell_type": "code",
   "execution_count": 15,
   "metadata": {},
   "outputs": [
    {
     "name": "stdout",
     "output_type": "stream",
     "text": [
      "Fitting 3 folds for each of 4 candidates, totalling 12 fits\n",
      "Beste Parameter-Kombination: {'C': 10, 'gamma': 'scale', 'kernel': 'rbf'}\n"
     ]
    }
   ],
   "source": [
    "# Parameteroptimierung mit GridSearchCV\n",
    "\n",
    "# Parametergitter definieren\n",
    "param_grid = {\n",
    "    'C': [0.1, 1, 10, 100],\n",
    "    'gamma': ['scale'],\n",
    "    'kernel': ['rbf']\n",
    "}\n",
    "\n",
    "# GridSearchCV initialisieren\n",
    "grid_search = GridSearchCV(svm.SVC(), param_grid, verbose=1, cv=3, n_jobs=6, scoring='accuracy')\n",
    "\n",
    "# Auf den Trainingsdaten fitten\n",
    "grid_search.fit(x_train_svm, y_train)\n",
    "\n",
    "# Beste Parameter-Kombination ausgeben\n",
    "print(\"Beste Parameter-Kombination:\", grid_search.best_params_)\n",
    "\n"
   ]
  },
  {
   "cell_type": "code",
   "execution_count": 17,
   "metadata": {},
   "outputs": [
    {
     "name": "stdout",
     "output_type": "stream",
     "text": [
      "   mean_fit_time  std_fit_time  mean_score_time  std_score_time param_C  \\\n",
      "0    1583.854495      3.659028      1220.538789        4.992894     0.1   \n",
      "1     975.133727      0.777928       784.015747        0.158493       1   \n",
      "2     724.637140      2.638047       699.712555        4.212903      10   \n",
      "3     587.853033      4.259290       325.795134        3.726903     100   \n",
      "\n",
      "  param_gamma param_kernel                                         params  \\\n",
      "0       scale          rbf  {'C': 0.1, 'gamma': 'scale', 'kernel': 'rbf'}   \n",
      "1       scale          rbf    {'C': 1, 'gamma': 'scale', 'kernel': 'rbf'}   \n",
      "2       scale          rbf   {'C': 10, 'gamma': 'scale', 'kernel': 'rbf'}   \n",
      "3       scale          rbf  {'C': 100, 'gamma': 'scale', 'kernel': 'rbf'}   \n",
      "\n",
      "   split0_test_score  split1_test_score  split2_test_score  mean_test_score  \\\n",
      "0            0.92070            0.92300            0.92515         0.922950   \n",
      "1            0.95960            0.96020            0.96100         0.960267   \n",
      "2            0.96850            0.96705            0.96770         0.967750   \n",
      "3            0.96835            0.96685            0.96745         0.967550   \n",
      "\n",
      "   std_test_score  rank_test_score  \n",
      "0        0.001817                4  \n",
      "1        0.000573                3  \n",
      "2        0.000593                1  \n",
      "3        0.000616                2  \n"
     ]
    }
   ],
   "source": [
    "import pandas as pd\n",
    "\n",
    "# Save cv_results_df to a CSV file\n",
    "cv_results_df = pd.DataFrame(grid_search.cv_results_)\n",
    "cv_results_df.to_csv('svm_v2_opt_gridcv_results_c0.1_1_10_100.csv', index=False)\n",
    "print(cv_results_df)"
   ]
  }
 ],
 "metadata": {
  "kernelspec": {
   "display_name": "venv_ml",
   "language": "python",
   "name": "python3"
  },
  "language_info": {
   "codemirror_mode": {
    "name": "ipython",
    "version": 3
   },
   "file_extension": ".py",
   "mimetype": "text/x-python",
   "name": "python",
   "nbconvert_exporter": "python",
   "pygments_lexer": "ipython3",
   "version": "3.11.1"
  }
 },
 "nbformat": 4,
 "nbformat_minor": 2
}
