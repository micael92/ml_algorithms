{
 "cells": [
  {
   "cell_type": "code",
   "execution_count": 1,
   "metadata": {},
   "outputs": [
    {
     "name": "stdout",
     "output_type": "stream",
     "text": [
      "WARNING:tensorflow:From c:\\Users\\micha\\CODE\\ml_algorithms\\venv_ml\\Lib\\site-packages\\keras\\src\\losses.py:2976: The name tf.losses.sparse_softmax_cross_entropy is deprecated. Please use tf.compat.v1.losses.sparse_softmax_cross_entropy instead.\n",
      "\n"
     ]
    }
   ],
   "source": [
    "from tensorflow.keras.datasets import mnist\n",
    "from sklearn.preprocessing import StandardScaler\n",
    "from sklearn.metrics import classification_report, confusion_matrix\n",
    "from sklearn.model_selection import RandomizedSearchCV\n",
    "from sklearn import svm\n",
    "import matplotlib.pyplot as plt\n",
    "import seaborn as sns\n",
    "import joblib  \n"
   ]
  },
  {
   "cell_type": "code",
   "execution_count": 2,
   "metadata": {},
   "outputs": [],
   "source": [
    "# MNIST Datensatz aus keras laden\n",
    "(x_train, y_train), (x_test, y_test) = mnist.load_data()"
   ]
  },
  {
   "cell_type": "code",
   "execution_count": 3,
   "metadata": {},
   "outputs": [
    {
     "name": "stdout",
     "output_type": "stream",
     "text": [
      "Ursprungs Shape des Trainingsdatensatzes: (60000, 28, 28)\n",
      "Ursprungs Shape des Testdatensatzes: (10000, 28, 28)\n"
     ]
    }
   ],
   "source": [
    "# Das Shape des Datensatzes ausgeben\n",
    "print(\"Ursprungs Shape des Trainingsdatensatzes:\", x_train.shape)\n",
    "print(\"Ursprungs Shape des Testdatensatzes:\", x_test.shape)"
   ]
  },
  {
   "cell_type": "code",
   "execution_count": 4,
   "metadata": {},
   "outputs": [],
   "source": [
    "# Den Datensatz für ein SVM vorbereiten\n",
    "\n",
    "# Flatten der Bildmatrizen für die SVM (von 28x28 zu 784)\n",
    "x_train_svm = x_train.reshape((x_train.shape[0], -1))\n",
    "x_test_svm = x_test.reshape((x_test.shape[0], -1))\n",
    "# Standardisierung der Feature-Werte\n",
    "scaler = StandardScaler()\n",
    "x_train_svm = scaler.fit_transform(x_train_svm)\n",
    "x_test_svm = scaler.transform(x_test_svm)"
   ]
  },
  {
   "cell_type": "code",
   "execution_count": 5,
   "metadata": {},
   "outputs": [
    {
     "name": "stdout",
     "output_type": "stream",
     "text": [
      "SVM Shape des Trainingsdatensatzes: (60000, 784)\n",
      "SVM Shape des Testdatensatzes: (10000, 784)\n"
     ]
    }
   ],
   "source": [
    "# Das Shape des Datensatzes ausgeben\n",
    "print(\"SVM Shape des Trainingsdatensatzes:\", x_train_svm.shape)\n",
    "print(\"SVM Shape des Testdatensatzes:\", x_test_svm.shape)"
   ]
  },
  {
   "cell_type": "code",
   "execution_count": 6,
   "metadata": {},
   "outputs": [
    {
     "name": "stderr",
     "output_type": "stream",
     "text": [
      "c:\\Users\\micha\\CODE\\ml_algorithms\\venv_ml\\Lib\\site-packages\\sklearn\\model_selection\\_search.py:318: UserWarning: The total space of parameters 4 is smaller than n_iter=10. Running 4 iterations. For exhaustive searches, use GridSearchCV.\n",
      "  warnings.warn(\n"
     ]
    },
    {
     "name": "stdout",
     "output_type": "stream",
     "text": [
      "Fitting 3 folds for each of 4 candidates, totalling 12 fits\n",
      "Beste Parameter-Kombination: {'gamma': 0.01, 'C': 1}\n"
     ]
    }
   ],
   "source": [
    "# Parameteroptimierung mit RandomizedSearchCV\n",
    "\n",
    "# Parameterverteilungen statt eines Gitters\n",
    "param_distributions = {\n",
    "    'C': [0.1, 1],\n",
    "    'gamma': [0.1, 0.01]\n",
    "    #'kernel': ['rbf']\n",
    "}\n",
    "\n",
    "# RandomizedSearchCV initialisieren\n",
    "random_search = RandomizedSearchCV(svm.SVC(), param_distributions, n_iter=10, verbose=3, cv=3, random_state=42, n_jobs=-1)\n",
    "\n",
    "# Auf den Trainingsdaten fitten\n",
    "random_search.fit(x_train_svm, y_train)\n",
    "\n",
    "# Beste Parameter-Kombination\n",
    "print(\"Beste Parameter-Kombination:\", random_search.best_params_)\n"
   ]
  },
  {
   "cell_type": "code",
   "execution_count": 10,
   "metadata": {},
   "outputs": [
    {
     "name": "stdout",
     "output_type": "stream",
     "text": [
      "   mean_fit_time  std_fit_time  mean_score_time  std_score_time param_gamma  \\\n",
      "0   13437.239037     11.404894      3674.571422        5.087596         0.1   \n",
      "1    8724.611095     27.272017      3309.736212        4.505955        0.01   \n",
      "2   14876.417873   3446.168224      2163.008726      900.058493         0.1   \n",
      "3    5259.437868    996.988902      1581.440059      525.641913        0.01   \n",
      "\n",
      "  param_C                     params  split0_test_score  split1_test_score  \\\n",
      "0     0.1   {'gamma': 0.1, 'C': 0.1}            0.11235            0.11235   \n",
      "1     0.1  {'gamma': 0.01, 'C': 0.1}            0.60450            0.60685   \n",
      "2       1     {'gamma': 0.1, 'C': 1}            0.17660            0.18110   \n",
      "3       1    {'gamma': 0.01, 'C': 1}            0.82680            0.83315   \n",
      "\n",
      "   split2_test_score  mean_test_score  std_test_score  rank_test_score  \n",
      "0            0.11240         0.112367        0.000024                4  \n",
      "1            0.61235         0.607900        0.003290                2  \n",
      "2            0.18675         0.181483        0.004153                3  \n",
      "3            0.83215         0.830700        0.002788                1  \n"
     ]
    }
   ],
   "source": [
    "import pandas as pd\n",
    "\n",
    "# Save cv_results_df to a CSV file\n",
    "cv_results_df.to_csv('svm_v1_opt_randcv_results.csv', index=False)\n",
    "cv_results_df = pd.DataFrame(random_search.cv_results_)\n",
    "print(cv_results_df)"
   ]
  },
  {
   "cell_type": "code",
   "execution_count": 18,
   "metadata": {},
   "outputs": [],
   "source": [
    "# Das SVM Modell definieren\n",
    "svc = svm.SVC(gamma=0.01, class_weight='balanced', C=1, kernel='rbf')"
   ]
  },
  {
   "cell_type": "code",
   "execution_count": 19,
   "metadata": {},
   "outputs": [],
   "source": [
    "# Das Modell trainieren\n",
    "\n",
    "svc.fit(x_train_svm, y_train)"
   ]
  },
  {
   "cell_type": "code",
   "execution_count": 13,
   "metadata": {},
   "outputs": [
    {
     "name": "stdout",
     "output_type": "stream",
     "text": [
      "              precision    recall  f1-score   support\n",
      "\n",
      "           0       0.00      0.00      0.00       980\n",
      "           1       1.00      0.72      0.84      1135\n",
      "           2       1.00      0.00      0.00      1032\n",
      "           3       0.11      1.00      0.20      1010\n",
      "           4       1.00      0.00      0.00       982\n",
      "           5       0.00      0.00      0.00       892\n",
      "           6       1.00      0.00      0.01       958\n",
      "           7       1.00      0.02      0.05      1028\n",
      "           8       0.00      0.00      0.00       974\n",
      "           9       1.00      0.01      0.02      1009\n",
      "\n",
      "    accuracy                           0.19     10000\n",
      "   macro avg       0.61      0.18      0.11     10000\n",
      "weighted avg       0.63      0.19      0.12     10000\n",
      "\n"
     ]
    },
    {
     "name": "stderr",
     "output_type": "stream",
     "text": [
      "c:\\Users\\micha\\CODE\\ml_algorithms\\venv_ml\\Lib\\site-packages\\sklearn\\metrics\\_classification.py:1509: UndefinedMetricWarning: Precision is ill-defined and being set to 0.0 in labels with no predicted samples. Use `zero_division` parameter to control this behavior.\n",
      "  _warn_prf(average, modifier, f\"{metric.capitalize()} is\", len(result))\n",
      "c:\\Users\\micha\\CODE\\ml_algorithms\\venv_ml\\Lib\\site-packages\\sklearn\\metrics\\_classification.py:1509: UndefinedMetricWarning: Precision is ill-defined and being set to 0.0 in labels with no predicted samples. Use `zero_division` parameter to control this behavior.\n",
      "  _warn_prf(average, modifier, f\"{metric.capitalize()} is\", len(result))\n",
      "c:\\Users\\micha\\CODE\\ml_algorithms\\venv_ml\\Lib\\site-packages\\sklearn\\metrics\\_classification.py:1509: UndefinedMetricWarning: Precision is ill-defined and being set to 0.0 in labels with no predicted samples. Use `zero_division` parameter to control this behavior.\n",
      "  _warn_prf(average, modifier, f\"{metric.capitalize()} is\", len(result))\n"
     ]
    }
   ],
   "source": [
    "# 7. Das SVM Modell auf den Testdaten evaluieren\n",
    "\n",
    "result = svc.predict(x_test_svm)\n",
    "\n",
    "print(classification_report(y_test, result))"
   ]
  },
  {
   "cell_type": "code",
   "execution_count": null,
   "metadata": {},
   "outputs": [],
   "source": [
    "# Auswertung\n",
    "\n",
    "cm = confusion_matrix(y_test, result)\n",
    "\n",
    "plt.figure(figsize=(10,7))\n",
    "sns.heatmap(cm, annot=True, fmt='d')\n",
    "plt.xlabel('Predicted')\n",
    "plt.ylabel('Truth')\n",
    "plt.show()"
   ]
  },
  {
   "cell_type": "code",
   "execution_count": null,
   "metadata": {},
   "outputs": [],
   "source": [
    "# Plotting some true predictions\n",
    "\n",
    "ig, axes = plt.subplots(3, 3, figsize=(4, 4))\n",
    "fig.subplots_adjust(hspace=0.8, wspace=0.5)  # Adjust the spacing between images\n",
    "for i, ax in enumerate(axes.flat):\n",
    "    ax.imshow(x_test[i], cmap='gray')\n",
    "    ax.set_title(f'Truth: {y_test[i]}\\nPredicted: {result[i]}')\n",
    "    ax.axis('off')\n",
    "plt.show()"
   ]
  },
  {
   "cell_type": "code",
   "execution_count": null,
   "metadata": {},
   "outputs": [],
   "source": [
    "# Plotting some false predictions\n",
    "\n",
    "count = 0\n",
    "mismatched_entries = []\n",
    "for i in range(len(result)):\n",
    "    if result[i] != y_test[i]:\n",
    "        mismatched_entries.append((result[i], y_test[i], x_test[i]))\n",
    "        count += 1\n",
    "    if count == 9:\n",
    "        break\n",
    "\n",
    "fig, axes = plt.subplots(3, 3, figsize=(4, 4))\n",
    "fig.subplots_adjust(hspace=0.8, wspace=0.5)  # Adjust the spacing between images\n",
    "for i, ax in enumerate(axes.flat):\n",
    "    ax.imshow(mismatched_entries[i][2], cmap='gray')\n",
    "    ax.set_title(f'Truth: {mismatched_entries[i][1]}\\nPredicted: {mismatched_entries[i][0]}')\n",
    "    ax.axis('off')\n",
    "plt.show()"
   ]
  },
  {
   "cell_type": "code",
   "execution_count": null,
   "metadata": {},
   "outputs": [],
   "source": [
    "# Speichern des Modells\n",
    "\n",
    "joblib.dump(svc, 'models/svm_v1_model.pkl')"
   ]
  }
 ],
 "metadata": {
  "kernelspec": {
   "display_name": "venv_ml",
   "language": "python",
   "name": "python3"
  },
  "language_info": {
   "codemirror_mode": {
    "name": "ipython",
    "version": 3
   },
   "file_extension": ".py",
   "mimetype": "text/x-python",
   "name": "python",
   "nbconvert_exporter": "python",
   "pygments_lexer": "ipython3",
   "version": "3.11.1"
  }
 },
 "nbformat": 4,
 "nbformat_minor": 2
}
