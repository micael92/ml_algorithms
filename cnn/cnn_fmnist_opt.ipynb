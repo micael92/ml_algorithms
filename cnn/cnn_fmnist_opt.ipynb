{
 "cells": [
  {
   "cell_type": "code",
   "execution_count": 1,
   "metadata": {},
   "outputs": [
    {
     "name": "stdout",
     "output_type": "stream",
     "text": [
      "WARNING:tensorflow:From c:\\Users\\micha\\CODE\\lokal\\venv_cnn\\Lib\\site-packages\\keras\\src\\losses.py:2976: The name tf.losses.sparse_softmax_cross_entropy is deprecated. Please use tf.compat.v1.losses.sparse_softmax_cross_entropy instead.\n",
      "\n"
     ]
    }
   ],
   "source": [
    "from keras.datasets import fashion_mnist\n",
    "from keras.utils import to_categorical, plot_model\n",
    "from keras.metrics import F1Score \n",
    "from keras import models, layers\n",
    "from sklearn.metrics import classification_report, confusion_matrix\n",
    "import matplotlib.pyplot as plt\n",
    "import numpy as np\n",
    "import pandas as pd \n",
    "import seaborn as sns\n",
    "from PIL import ImageFont\n",
    "import visualkeras"
   ]
  },
  {
   "cell_type": "markdown",
   "metadata": {},
   "source": [
    "# Data and Model"
   ]
  },
  {
   "cell_type": "code",
   "execution_count": 2,
   "metadata": {},
   "outputs": [],
   "source": [
    "# Load the data\n",
    "(train_images, train_labels), (test_images, test_labels) =  fashion_mnist.load_data()"
   ]
  },
  {
   "cell_type": "code",
   "execution_count": 3,
   "metadata": {},
   "outputs": [],
   "source": [
    "# Preprocess the data\n",
    "train_images = train_images.reshape((60000, 28, 28, 1)) \n",
    "train_images = train_images.astype('float32') / 255\n",
    "\n",
    "test_images = test_images.reshape((10000, 28, 28, 1)) \n",
    "test_images = test_images.astype('float32') / 255\n",
    "\n",
    "train_labels = to_categorical(train_labels) \n",
    "test_labels = to_categorical(test_labels)"
   ]
  },
  {
   "cell_type": "code",
   "execution_count": 4,
   "metadata": {},
   "outputs": [
    {
     "name": "stdout",
     "output_type": "stream",
     "text": [
      "WARNING:tensorflow:From c:\\Users\\micha\\CODE\\lokal\\venv_cnn\\Lib\\site-packages\\keras\\src\\backend.py:873: The name tf.get_default_graph is deprecated. Please use tf.compat.v1.get_default_graph instead.\n",
      "\n",
      "WARNING:tensorflow:From c:\\Users\\micha\\CODE\\lokal\\venv_cnn\\Lib\\site-packages\\keras\\src\\layers\\normalization\\batch_normalization.py:979: The name tf.nn.fused_batch_norm is deprecated. Please use tf.compat.v1.nn.fused_batch_norm instead.\n",
      "\n",
      "Model: \"sequential\"\n",
      "_________________________________________________________________\n",
      " Layer (type)                Output Shape              Param #   \n",
      "=================================================================\n",
      " conv2d (Conv2D)             (None, 26, 26, 32)        320       \n",
      "                                                                 \n",
      " batch_normalization (Batch  (None, 26, 26, 32)        128       \n",
      " Normalization)                                                  \n",
      "                                                                 \n",
      " conv2d_1 (Conv2D)           (None, 24, 24, 32)        9248      \n",
      "                                                                 \n",
      " batch_normalization_1 (Bat  (None, 24, 24, 32)        128       \n",
      " chNormalization)                                                \n",
      "                                                                 \n",
      " conv2d_2 (Conv2D)           (None, 12, 12, 32)        25632     \n",
      "                                                                 \n",
      " batch_normalization_2 (Bat  (None, 12, 12, 32)        128       \n",
      " chNormalization)                                                \n",
      "                                                                 \n",
      " dropout (Dropout)           (None, 12, 12, 32)        0         \n",
      "                                                                 \n",
      " conv2d_3 (Conv2D)           (None, 10, 10, 64)        18496     \n",
      "                                                                 \n",
      " batch_normalization_3 (Bat  (None, 10, 10, 64)        256       \n",
      " chNormalization)                                                \n",
      "                                                                 \n",
      " conv2d_4 (Conv2D)           (None, 8, 8, 64)          36928     \n",
      "                                                                 \n",
      " batch_normalization_4 (Bat  (None, 8, 8, 64)          256       \n",
      " chNormalization)                                                \n",
      "                                                                 \n",
      " conv2d_5 (Conv2D)           (None, 4, 4, 64)          102464    \n",
      "                                                                 \n",
      " batch_normalization_5 (Bat  (None, 4, 4, 64)          256       \n",
      " chNormalization)                                                \n",
      "                                                                 \n",
      " dropout_1 (Dropout)         (None, 4, 4, 64)          0         \n",
      "                                                                 \n",
      " flatten (Flatten)           (None, 1024)              0         \n",
      "                                                                 \n",
      " dense (Dense)               (None, 128)               131200    \n",
      "                                                                 \n",
      " batch_normalization_6 (Bat  (None, 128)               512       \n",
      " chNormalization)                                                \n",
      "                                                                 \n",
      " dropout_2 (Dropout)         (None, 128)               0         \n",
      "                                                                 \n",
      " dense_1 (Dense)             (None, 10)                1290      \n",
      "                                                                 \n",
      "=================================================================\n",
      "Total params: 327242 (1.25 MB)\n",
      "Trainable params: 326410 (1.25 MB)\n",
      "Non-trainable params: 832 (3.25 KB)\n",
      "_________________________________________________________________\n"
     ]
    }
   ],
   "source": [
    "# Create the model\n",
    "model = models.Sequential()\n",
    "\n",
    "model.add(layers.Conv2D(32,kernel_size=3,activation='relu',input_shape=(28,28,1)))\n",
    "model.add(layers.BatchNormalization())\n",
    "model.add(layers.Conv2D(32,kernel_size=3,activation='relu'))\n",
    "model.add(layers.BatchNormalization())\n",
    "model.add(layers.Conv2D(32,kernel_size=5,strides=2,padding='same',activation='relu'))\n",
    "model.add(layers.BatchNormalization())\n",
    "model.add(layers.Dropout(0.4))\n",
    "\n",
    "model.add(layers.Conv2D(64,kernel_size=3,activation='relu'))\n",
    "model.add(layers.BatchNormalization())\n",
    "model.add(layers.Conv2D(64,kernel_size=3,activation='relu'))\n",
    "model.add(layers.BatchNormalization())\n",
    "model.add(layers.Conv2D(64,kernel_size=5,strides=2,padding='same',activation='relu'))\n",
    "model.add(layers.BatchNormalization())\n",
    "model.add(layers.Dropout(0.4))\n",
    "\n",
    "model.add(layers.Flatten())\n",
    "model.add(layers.Dense(128, activation='relu'))\n",
    "model.add(layers.BatchNormalization())\n",
    "model.add(layers.Dropout(0.4))\n",
    "model.add(layers.Dense(10, activation='softmax'))\n",
    "\n",
    "model.summary()"
   ]
  },
  {
   "cell_type": "code",
   "execution_count": 5,
   "metadata": {},
   "outputs": [
    {
     "name": "stdout",
     "output_type": "stream",
     "text": [
      "WARNING:tensorflow:From c:\\Users\\micha\\CODE\\lokal\\venv_cnn\\Lib\\site-packages\\keras\\src\\optimizers\\__init__.py:309: The name tf.train.Optimizer is deprecated. Please use tf.compat.v1.train.Optimizer instead.\n",
      "\n"
     ]
    }
   ],
   "source": [
    "# Compile the model\n",
    "model.compile(optimizer='adam', loss='categorical_crossentropy', metrics=[F1Score(average='weighted')])"
   ]
  },
  {
   "cell_type": "code",
   "execution_count": 6,
   "metadata": {},
   "outputs": [
    {
     "name": "stdout",
     "output_type": "stream",
     "text": [
      "Epoch 1/35\n",
      "WARNING:tensorflow:From c:\\Users\\micha\\CODE\\lokal\\venv_cnn\\Lib\\site-packages\\keras\\src\\utils\\tf_utils.py:492: The name tf.ragged.RaggedTensorValue is deprecated. Please use tf.compat.v1.ragged.RaggedTensorValue instead.\n",
      "\n",
      "938/938 [==============================] - 80s 82ms/step - loss: 0.5746 - f1_score: 0.7943\n",
      "Epoch 2/35\n",
      "938/938 [==============================] - 67s 71ms/step - loss: 0.3546 - f1_score: 0.8718\n",
      "Epoch 3/35\n",
      "938/938 [==============================] - 67s 71ms/step - loss: 0.3058 - f1_score: 0.8903\n",
      "Epoch 4/35\n",
      "938/938 [==============================] - 68s 72ms/step - loss: 0.2806 - f1_score: 0.8981\n",
      "Epoch 5/35\n",
      "938/938 [==============================] - 69s 74ms/step - loss: 0.2570 - f1_score: 0.9075\n",
      "Epoch 6/35\n",
      "938/938 [==============================] - 72s 76ms/step - loss: 0.2443 - f1_score: 0.9115\n",
      "Epoch 7/35\n",
      "938/938 [==============================] - 72s 77ms/step - loss: 0.2297 - f1_score: 0.9162\n",
      "Epoch 8/35\n",
      "938/938 [==============================] - 67s 71ms/step - loss: 0.2178 - f1_score: 0.9216\n",
      "Epoch 9/35\n",
      "938/938 [==============================] - 70s 74ms/step - loss: 0.2072 - f1_score: 0.9246\n",
      "Epoch 10/35\n",
      "938/938 [==============================] - 65s 69ms/step - loss: 0.1979 - f1_score: 0.9271\n",
      "Epoch 11/35\n",
      "938/938 [==============================] - 70s 75ms/step - loss: 0.1897 - f1_score: 0.9320\n",
      "Epoch 12/35\n",
      "938/938 [==============================] - 71s 75ms/step - loss: 0.1811 - f1_score: 0.9350\n",
      "Epoch 13/35\n",
      "938/938 [==============================] - 69s 73ms/step - loss: 0.1742 - f1_score: 0.9363\n",
      "Epoch 14/35\n",
      "938/938 [==============================] - 68s 73ms/step - loss: 0.1696 - f1_score: 0.9384\n",
      "Epoch 15/35\n",
      "938/938 [==============================] - 71s 75ms/step - loss: 0.1617 - f1_score: 0.9410\n",
      "Epoch 16/35\n",
      "938/938 [==============================] - 67s 72ms/step - loss: 0.1552 - f1_score: 0.9423\n",
      "Epoch 17/35\n",
      "938/938 [==============================] - 68s 73ms/step - loss: 0.1522 - f1_score: 0.9442\n",
      "Epoch 18/35\n",
      "938/938 [==============================] - 72s 77ms/step - loss: 0.1430 - f1_score: 0.9467\n",
      "Epoch 19/35\n",
      "938/938 [==============================] - 74s 79ms/step - loss: 0.1414 - f1_score: 0.9475\n",
      "Epoch 20/35\n",
      "938/938 [==============================] - 73s 78ms/step - loss: 0.1363 - f1_score: 0.9490\n",
      "Epoch 21/35\n",
      "938/938 [==============================] - 76s 81ms/step - loss: 0.1285 - f1_score: 0.9526\n",
      "Epoch 22/35\n",
      "938/938 [==============================] - 75s 80ms/step - loss: 0.1275 - f1_score: 0.9531\n",
      "Epoch 23/35\n",
      "938/938 [==============================] - 81s 86ms/step - loss: 0.1233 - f1_score: 0.9540\n",
      "Epoch 24/35\n",
      "938/938 [==============================] - 70s 75ms/step - loss: 0.1217 - f1_score: 0.9557\n",
      "Epoch 25/35\n",
      "938/938 [==============================] - 70s 75ms/step - loss: 0.1150 - f1_score: 0.9568\n",
      "Epoch 26/35\n",
      "938/938 [==============================] - 70s 75ms/step - loss: 0.1154 - f1_score: 0.9573\n",
      "Epoch 27/35\n",
      "938/938 [==============================] - 68s 73ms/step - loss: 0.1118 - f1_score: 0.9593\n",
      "Epoch 28/35\n",
      "938/938 [==============================] - 74s 79ms/step - loss: 0.1100 - f1_score: 0.9595\n",
      "Epoch 29/35\n",
      "938/938 [==============================] - 106s 113ms/step - loss: 0.1066 - f1_score: 0.9610\n",
      "Epoch 30/35\n",
      "938/938 [==============================] - 121s 129ms/step - loss: 0.1045 - f1_score: 0.9609\n",
      "Epoch 31/35\n",
      "938/938 [==============================] - 118s 125ms/step - loss: 0.1002 - f1_score: 0.9632\n",
      "Epoch 32/35\n",
      "938/938 [==============================] - 124s 132ms/step - loss: 0.1003 - f1_score: 0.9628\n",
      "Epoch 33/35\n",
      "938/938 [==============================] - 118s 126ms/step - loss: 0.0969 - f1_score: 0.9645\n",
      "Epoch 34/35\n",
      "938/938 [==============================] - 118s 126ms/step - loss: 0.0945 - f1_score: 0.9663\n",
      "Epoch 35/35\n",
      "938/938 [==============================] - 117s 124ms/step - loss: 0.0901 - f1_score: 0.9667\n"
     ]
    },
    {
     "data": {
      "text/plain": [
       "<keras.src.callbacks.History at 0x1f5034552d0>"
      ]
     },
     "execution_count": 6,
     "metadata": {},
     "output_type": "execute_result"
    }
   ],
   "source": [
    "# Train the model\n",
    "model.fit(train_images, train_labels, epochs=35, batch_size=64)"
   ]
  },
  {
   "cell_type": "code",
   "execution_count": 7,
   "metadata": {},
   "outputs": [
    {
     "name": "stdout",
     "output_type": "stream",
     "text": [
      "313/313 [==============================] - 10s 28ms/step\n"
     ]
    }
   ],
   "source": [
    "# Predict the test data\n",
    "y_true = test_labels\n",
    "y_pred = model.predict(test_images)"
   ]
  },
  {
   "cell_type": "markdown",
   "metadata": {},
   "source": [
    "# Reporting"
   ]
  },
  {
   "cell_type": "code",
   "execution_count": 17,
   "metadata": {},
   "outputs": [
    {
     "name": "stdout",
     "output_type": "stream",
     "text": [
      "              precision    recall  f1-score   support\n",
      "\n",
      "           0     0.8544    0.9330    0.8920      1000\n",
      "           1     0.9970    0.9890    0.9930      1000\n",
      "           2     0.8946    0.9250    0.9095      1000\n",
      "           3     0.9367    0.9320    0.9343      1000\n",
      "           4     0.8718    0.9320    0.9009      1000\n",
      "           5     0.9879    0.9800    0.9839      1000\n",
      "           6     0.8775    0.7020    0.7800      1000\n",
      "           7     0.9661    0.9690    0.9675      1000\n",
      "           8     0.9792    0.9910    0.9851      1000\n",
      "           9     0.9634    0.9740    0.9687      1000\n",
      "\n",
      "    accuracy                         0.9327     10000\n",
      "   macro avg     0.9329    0.9327    0.9315     10000\n",
      "weighted avg     0.9329    0.9327    0.9315     10000\n",
      "\n"
     ]
    }
   ],
   "source": [
    "# Convert predicted values to integer labels\n",
    "y_pred_classes = np.argmax(y_pred, axis=1)\n",
    "\n",
    "# Convert one-hot encoded labels to integer labels\n",
    "y_true_int = np.argmax(y_true, axis=1)\n",
    "\n",
    "# Calculate the classification report\n",
    "report = classification_report(y_true_int, y_pred_classes, digits=4)\n",
    "print(report)"
   ]
  },
  {
   "cell_type": "code",
   "execution_count": 12,
   "metadata": {},
   "outputs": [
    {
     "data": {
      "image/png": "[encoded data removed]",
      "text/plain": [
       "<Figure size 1000x700 with 2 Axes>"
      ]
     },
     "metadata": {},
     "output_type": "display_data"
    }
   ],
   "source": [
    "# Compute the confusion matrix\n",
    "cm = confusion_matrix(y_true_int, y_pred_classes)\n",
    "\n",
    "plt.figure(figsize=(10,7))\n",
    "sns.heatmap(cm, annot=True, fmt='d')\n",
    "plt.xlabel('Predicted')\n",
    "plt.ylabel('Truth')\n",
    "plt.show()"
   ]
  },
  {
   "cell_type": "code",
   "execution_count": 20,
   "metadata": {},
   "outputs": [],
   "source": [
    "# Generate classification report as dictionary\n",
    "report_dict = classification_report(y_true_int, y_pred_classes, digits=4, output_dict=True)\n",
    "\n",
    "# Convert the dictionary to a DataFrame\n",
    "report_df = pd.DataFrame(report_dict).transpose()\n",
    "\n",
    "# Save the DataFrame to an Excel file\n",
    "filename = 'cnn_fmnist_opt'\n",
    "report_df.to_excel(filename + '.xlsx', sheet_name=filename)"
   ]
  },
  {
   "cell_type": "code",
   "execution_count": 22,
   "metadata": {},
   "outputs": [
    {
     "name": "stdout",
     "output_type": "stream",
     "text": [
      "c:\\Users\\micha\\CODE\\lokal\\venv_cnn\\Scripts;C:\\Users\\micha\\CODE\\lokal\\venv_cnn\\Scripts;C:\\Windows\\system32;C:\\Windows;C:\\Windows\\System32\\Wbem;C:\\Windows\\System32\\WindowsPowerShell\\v1.0\\;C:\\Windows\\System32\\OpenSSH\\;C:\\Program Files\\Microsoft VS Code\\bin;C:\\Program Files\\dotnet\\;C:\\Program Files\\Git\\cmd;C:\\Users\\micha\\AppData\\Local\\Programs\\Python\\Python311\\Scripts\\;C:\\Users\\micha\\AppData\\Local\\Programs\\Python\\Python311\\;C:\\Users\\micha\\AppData\\Local\\Microsoft\\WindowsApps;C:\\Program Files (x86)\\Nmap\n",
      "c:\\Users\\micha\\CODE\\lokal\\venv_cnn\\Scripts;C:\\Users\\micha\\CODE\\lokal\\venv_cnn\\Scripts;C:\\Windows\\system32;C:\\Windows;C:\\Windows\\System32\\Wbem;C:\\Windows\\System32\\WindowsPowerShell\\v1.0\\;C:\\Windows\\System32\\OpenSSH\\;C:\\Program Files\\Microsoft VS Code\\bin;C:\\Program Files\\dotnet\\;C:\\Program Files\\Git\\cmd;C:\\Users\\micha\\AppData\\Local\\Programs\\Python\\Python311\\Scripts\\;C:\\Users\\micha\\AppData\\Local\\Programs\\Python\\Python311\\;C:\\Users\\micha\\AppData\\Local\\Microsoft\\WindowsApps;C:\\Program Files (x86)\\Nmap;C:\\Program Files\\Graphviz\\bin\n"
     ]
    }
   ],
   "source": [
    "# Export model image with plot_model\n",
    "plot_model(model, to_file=filename + '.png', show_shapes=True, show_layer_names=True)"
   ]
  },
  {
   "cell_type": "code",
   "execution_count": 24,
   "metadata": {},
   "outputs": [
    {
     "data": {
      "image/png": "[encoded data removed]",
      "text/plain": [
       "<PIL.Image.Image image mode=RGBA size=684x139>"
      ]
     },
     "execution_count": 24,
     "metadata": {},
     "output_type": "execute_result"
    }
   ],
   "source": [
    "# Export model image with visualkeras\n",
    "font = ImageFont.truetype(\"C:\\\\Windows\\\\Fonts\\\\Arial.ttf\", 10)\n",
    "visualkeras.layered_view(model, legend=True, font=font, to_file=filename + '.png')"
   ]
  }
 ],
 "metadata": {
  "kernelspec": {
   "display_name": "venv_cnn",
   "language": "python",
   "name": "python3"
  },
  "language_info": {
   "codemirror_mode": {
    "name": "ipython",
    "version": 3
   },
   "file_extension": ".py",
   "mimetype": "text/x-python",
   "name": "python",
   "nbconvert_exporter": "python",
   "pygments_lexer": "ipython3",
   "version": "3.11.1"
  }
 },
 "nbformat": 4,
 "nbformat_minor": 2
}
